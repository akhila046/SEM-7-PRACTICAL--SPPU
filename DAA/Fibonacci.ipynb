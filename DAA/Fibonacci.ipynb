{
 "cells": [
  {
   "cell_type": "code",
   "execution_count": 4,
   "id": "f0d0a600-c1fb-4217-ab56-79a14c97a0d7",
   "metadata": {},
   "outputs": [
    {
     "name": "stdin",
     "output_type": "stream",
     "text": [
      "Enter n:  4\n"
     ]
    },
    {
     "name": "stdout",
     "output_type": "stream",
     "text": [
      "Recursive Fibonacci of 4 is: 3\n",
      "Non-Recursive Fibonacci of 4 is: 3\n"
     ]
    }
   ],
   "source": [
    "#Recursive Fibonacci\n",
    "\n",
    "def fib_recursive(n):\n",
    "    if n <= 1:\n",
    "        return n\n",
    "    return fib_recursive(n-1) + fib_recursive(n-2)\n",
    "\n",
    "#Non Recursive Fibonacci (Iterative)\n",
    "\n",
    "def fib_iterative(n):\n",
    "    if n <= 1:\n",
    "        return n\n",
    "\n",
    "    a = 0\n",
    "    b = 1\n",
    "    for _ in range(2, n+1):\n",
    "        a,b = b,a+b\n",
    "    return b\n",
    "     \n",
    "# Driver code\n",
    "if __name__ == \"__main__\":\n",
    "    n = int(input(\"Enter n: \"))\n",
    "\n",
    "    print(\"Recursive Fibonacci of\", n, \"is:\", fib_recursive(n))\n",
    "    print(\"Non-Recursive Fibonacci of\", n, \"is:\", fib_iterative(n))\n"
   ]
  },
  {
   "cell_type": "code",
   "execution_count": null,
   "id": "12688089-a1f8-4bd9-ad9e-0428cab18f84",
   "metadata": {},
   "outputs": [],
   "source": []
  }
 ],
 "metadata": {
  "kernelspec": {
   "display_name": "Python 3 (ipykernel)",
   "language": "python",
   "name": "python3"
  },
  "language_info": {
   "codemirror_mode": {
    "name": "ipython",
    "version": 3
   },
   "file_extension": ".py",
   "mimetype": "text/x-python",
   "name": "python",
   "nbconvert_exporter": "python",
   "pygments_lexer": "ipython3",
   "version": "3.13.1"
  }
 },
 "nbformat": 4,
 "nbformat_minor": 5
}
