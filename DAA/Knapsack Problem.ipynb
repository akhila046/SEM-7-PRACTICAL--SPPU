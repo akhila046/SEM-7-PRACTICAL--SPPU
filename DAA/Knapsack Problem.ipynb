{
 "cells": [
  {
   "cell_type": "code",
   "execution_count": 2,
   "id": "20a1711f-16b6-4580-8045-6cd9a4032ee5",
   "metadata": {},
   "outputs": [
    {
     "name": "stdout",
     "output_type": "stream",
     "text": [
      "Maximum value in Knapsack = 148.0\n",
      "Items taken (value, weight, fraction):\n",
      "(100, 20, 1)\n",
      "(120, 50, 0.4)\n"
     ]
    }
   ],
   "source": [
    "# Function to solve Fractional Knapsack Problem\n",
    "def fractional_knapsack(values, weights, capacity):\n",
    "    n = len(values)\n",
    "\n",
    "    # Calculate value-to-weight ratio\n",
    "    ratio = [(values[i] / weights[i], values[i], weights[i]) for i in range(n)]\n",
    "\n",
    "    # Sort items by ratio in descending order\n",
    "    ratio.sort(reverse=True)\n",
    "\n",
    "    max_value = 0.0  # Total value in knapsack\n",
    "    remaining_capacity = capacity\n",
    "    items_taken = []\n",
    "\n",
    "    for r, v, w in ratio:\n",
    "        if remaining_capacity == 0:\n",
    "            break\n",
    "\n",
    "        if w <= remaining_capacity:\n",
    "            # Take whole item\n",
    "            max_value += v\n",
    "            remaining_capacity -= w\n",
    "            items_taken.append((v, w, 1))  # (value, weight, fraction=1)\n",
    "        else:\n",
    "            # Take fractional part of item\n",
    "            fraction = remaining_capacity / w\n",
    "            max_value += v * fraction\n",
    "            items_taken.append((v, w, fraction))\n",
    "            remaining_capacity = 0\n",
    "\n",
    "    return max_value, items_taken\n",
    "\n",
    "\n",
    "# Driver code\n",
    "if __name__ == \"__main__\":\n",
    "    values = [20, 100, 120]\n",
    "    weights = [10, 20, 50]\n",
    "    capacity = 40\n",
    "\n",
    "    max_val, items = fractional_knapsack(values, weights, capacity)\n",
    "\n",
    "    print(\"Maximum value in Knapsack =\", max_val)\n",
    "    print(\"Items taken (value, weight, fraction):\")\n",
    "    for item in items:\n",
    "        print(item)\n"
   ]
  },
  {
   "cell_type": "code",
   "execution_count": null,
   "id": "ca9fbd50-5045-4bf8-90ce-ea083b6da23e",
   "metadata": {},
   "outputs": [],
   "source": []
  }
 ],
 "metadata": {
  "kernelspec": {
   "display_name": "Python 3 (ipykernel)",
   "language": "python",
   "name": "python3"
  },
  "language_info": {
   "codemirror_mode": {
    "name": "ipython",
    "version": 3
   },
   "file_extension": ".py",
   "mimetype": "text/x-python",
   "name": "python",
   "nbconvert_exporter": "python",
   "pygments_lexer": "ipython3",
   "version": "3.13.1"
  }
 },
 "nbformat": 4,
 "nbformat_minor": 5
}
